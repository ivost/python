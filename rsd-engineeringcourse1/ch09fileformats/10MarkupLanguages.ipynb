{
 "cells": [
  {
   "cell_type": "markdown",
   "metadata": {},
   "source": [
    "# Markup Languages"
   ]
  },
  {
   "cell_type": "markdown",
   "metadata": {},
   "source": [
    "XML and its relatives are based on the idea of *marking up* content with labels on its purpose:\n",
    "    \n",
    "    <name>James</name> is a <job>Programmer</job>"
   ]
  },
  {
   "cell_type": "markdown",
   "metadata": {},
   "source": [
    "One of the easiest ways to make a markup-language based fileformat is the use of a *templating language*."
   ]
  },
  {
   "cell_type": "code",
   "execution_count": 1,
   "metadata": {},
   "outputs": [
    {
     "data": {
      "text/latex": [
       "$\\displaystyle C_6H_{12}O_6 + 6O_2 \\rightarrow 6CO_2 + 6H_2O\\\\ \n",
       "2H_2 + O_2 \\rightarrow 2H_2O$"
      ],
      "text/plain": [
       "<IPython.core.display.Math object>"
      ]
     },
     "metadata": {},
     "output_type": "display_data"
    }
   ],
   "source": [
    "from parsereactions import parser\n",
    "from IPython.display import display, Math\n",
    "\n",
    "system = parser.parse(open(\"system.tex\").read())\n",
    "display(Math(str(system)))"
   ]
  },
  {
   "cell_type": "code",
   "execution_count": 2,
   "metadata": {},
   "outputs": [
    {
     "name": "stdout",
     "output_type": "stream",
     "text": [
      "Overwriting chemistry_template.mko\n"
     ]
    }
   ],
   "source": [
    "%%writefile chemistry_template.mko\n",
    "<?xml version=\"1.0\" encoding=\"UTF-8\"?>\n",
    "<system>\n",
    "    %for reaction in reactions:\n",
    "    <reaction>\n",
    "        <reactants>\n",
    "        %for molecule in reaction.reactants.molecules:\n",
    "            <molecule stoichiometry=\"${reaction.reactants.molecules[molecule]}\">\n",
    "                %for element in molecule.elements:\n",
    "                    <element symbol=\"${element.symbol}\" number=\"${molecule.elements[element]}\"/>\n",
    "                %endfor\n",
    "            </molecule>\n",
    "        %endfor\n",
    "        </reactants>\n",
    "        <products>\n",
    "        %for molecule in reaction.products.molecules:\n",
    "            <molecule stoichiometry=\"${reaction.products.molecules[molecule]}\">\n",
    "            %for element in molecule.elements:\n",
    "                    <element symbol=\"${element.symbol}\" number=\"${molecule.elements[element]}\"/>\n",
    "            %endfor\n",
    "            </molecule>\n",
    "        %endfor\n",
    "        </products>\n",
    "    </reaction>\n",
    "    %endfor\n",
    "</system>"
   ]
  },
  {
   "cell_type": "code",
   "execution_count": 4,
   "metadata": {},
   "outputs": [],
   "source": [
    "from mako.template import Template\n",
    "\n",
    "mytemplate = Template(filename=\"chemistry_template.mko\")\n",
    "with open(\"system.xml\", \"w\") as xmlfile:\n",
    "    xmlfile.write((mytemplate.render(**vars(system))))"
   ]
  },
  {
   "cell_type": "code",
   "execution_count": 5,
   "metadata": {},
   "outputs": [
    {
     "name": "stdout",
     "output_type": "stream",
     "text": [
      "<?xml version=\"1.0\" encoding=\"UTF-8\"?>\r\n",
      "<system>\r\n",
      "    <reaction>\r\n",
      "        <reactants>\r\n",
      "            <molecule stoichiometry=\"1\">\r\n",
      "                    <element symbol=\"C\" number=\"6\"/>\r\n",
      "                    <element symbol=\"H\" number=\"12\"/>\r\n",
      "                    <element symbol=\"O\" number=\"6\"/>\r\n",
      "            </molecule>\r\n",
      "            <molecule stoichiometry=\"6\">\r\n",
      "                    <element symbol=\"O\" number=\"2\"/>\r\n",
      "            </molecule>\r\n",
      "        </reactants>\r\n",
      "        <products>\r\n",
      "            <molecule stoichiometry=\"6\">\r\n",
      "                    <element symbol=\"C\" number=\"1\"/>\r\n",
      "                    <element symbol=\"O\" number=\"2\"/>\r\n",
      "            </molecule>\r\n",
      "            <molecule stoichiometry=\"6\">\r\n",
      "                    <element symbol=\"H\" number=\"2\"/>\r\n",
      "                    <element symbol=\"O\" number=\"1\"/>\r\n",
      "            </molecule>\r\n",
      "        </products>\r\n",
      "    </reaction>\r\n",
      "    <reaction>\r\n",
      "        <reactants>\r\n",
      "            <molecule stoichiometry=\"2\">\r\n",
      "                    <element symbol=\"H\" number=\"2\"/>\r\n",
      "            </molecule>\r\n",
      "            <molecule stoichiometry=\"1\">\r\n",
      "                    <element symbol=\"O\" number=\"2\"/>\r\n",
      "            </molecule>\r\n",
      "        </reactants>\r\n",
      "        <products>\r\n",
      "            <molecule stoichiometry=\"2\">\r\n",
      "                    <element symbol=\"H\" number=\"2\"/>\r\n",
      "                    <element symbol=\"O\" number=\"1\"/>\r\n",
      "            </molecule>\r\n",
      "        </products>\r\n",
      "    </reaction>\r\n",
      "</system>\r\n"
     ]
    }
   ],
   "source": [
    "!cat system.xml"
   ]
  },
  {
   "cell_type": "markdown",
   "metadata": {},
   "source": [
    "Markup languages are verbose (jokingly called the \"angle bracket tax\") but very clear."
   ]
  },
  {
   "cell_type": "markdown",
   "metadata": {},
   "source": [
    "## Data as text"
   ]
  },
  {
   "cell_type": "markdown",
   "metadata": {},
   "source": [
    "The above serialisation specifies all data as XML \"Attributes\". An alternative is to put the data in the text:"
   ]
  },
  {
   "cell_type": "code",
   "execution_count": 6,
   "metadata": {},
   "outputs": [
    {
     "name": "stdout",
     "output_type": "stream",
     "text": [
      "Writing chemistry_template2.mko\n"
     ]
    }
   ],
   "source": [
    "%%writefile chemistry_template2.mko\n",
    "<?xml version=\"1.0\" encoding=\"UTF-8\"?>\n",
    "<system>\n",
    "    %for reaction in reactions:\n",
    "    <reaction>\n",
    "        <reactants>\n",
    "        %for molecule in reaction.reactants.molecules:\n",
    "            <molecule stoichiometry=\"${reaction.reactants.molecules[molecule]}\">\n",
    "                %for element in molecule.elements:\n",
    "                    <element symbol=\"${element.symbol}\">${molecule.elements[element]}</element>\n",
    "                %endfor\n",
    "            </molecule>\n",
    "        %endfor\n",
    "        </reactants>\n",
    "        <products>\n",
    "        %for molecule in reaction.products.molecules:\n",
    "            <molecule stoichiometry=\"${reaction.products.molecules[molecule]}\">\n",
    "            %for element in molecule.elements:\n",
    "                    <element symbol=\"${element.symbol}\">${molecule.elements[element]}</element>\n",
    "            %endfor\n",
    "            </molecule>\n",
    "        %endfor\n",
    "        </products>\n",
    "    </reaction>\n",
    "    %endfor\n",
    "</system>"
   ]
  },
  {
   "cell_type": "code",
   "execution_count": 7,
   "metadata": {},
   "outputs": [],
   "source": [
    "from mako.template import Template\n",
    "\n",
    "mytemplate = Template(filename=\"chemistry_template2.mko\")\n",
    "with open(\"system2.xml\", \"w\") as xmlfile:\n",
    "    xmlfile.write((mytemplate.render(**vars(system))))"
   ]
  },
  {
   "cell_type": "code",
   "execution_count": 8,
   "metadata": {},
   "outputs": [
    {
     "name": "stdout",
     "output_type": "stream",
     "text": [
      "<?xml version=\"1.0\" encoding=\"UTF-8\"?>\r\n",
      "<system>\r\n",
      "    <reaction>\r\n",
      "        <reactants>\r\n",
      "            <molecule stoichiometry=\"1\">\r\n",
      "                    <element symbol=\"C\">6</element>\r\n",
      "                    <element symbol=\"H\">12</element>\r\n",
      "                    <element symbol=\"O\">6</element>\r\n",
      "            </molecule>\r\n",
      "            <molecule stoichiometry=\"6\">\r\n",
      "                    <element symbol=\"O\">2</element>\r\n",
      "            </molecule>\r\n",
      "        </reactants>\r\n",
      "        <products>\r\n",
      "            <molecule stoichiometry=\"6\">\r\n",
      "                    <element symbol=\"C\">1</element>\r\n",
      "                    <element symbol=\"O\">2</element>\r\n",
      "            </molecule>\r\n",
      "            <molecule stoichiometry=\"6\">\r\n",
      "                    <element symbol=\"H\">2</element>\r\n",
      "                    <element symbol=\"O\">1</element>\r\n",
      "            </molecule>\r\n",
      "        </products>\r\n",
      "    </reaction>\r\n",
      "    <reaction>\r\n",
      "        <reactants>\r\n",
      "            <molecule stoichiometry=\"2\">\r\n",
      "                    <element symbol=\"H\">2</element>\r\n",
      "            </molecule>\r\n",
      "            <molecule stoichiometry=\"1\">\r\n",
      "                    <element symbol=\"O\">2</element>\r\n",
      "            </molecule>\r\n",
      "        </reactants>\r\n",
      "        <products>\r\n",
      "            <molecule stoichiometry=\"2\">\r\n",
      "                    <element symbol=\"H\">2</element>\r\n",
      "                    <element symbol=\"O\">1</element>\r\n",
      "            </molecule>\r\n",
      "        </products>\r\n",
      "    </reaction>\r\n",
      "</system>\r\n"
     ]
    }
   ],
   "source": [
    "!cat system2.xml"
   ]
  },
  {
   "cell_type": "markdown",
   "metadata": {},
   "source": [
    "## Parsing XML"
   ]
  },
  {
   "cell_type": "markdown",
   "metadata": {},
   "source": [
    "XML is normally parsed by building a tree-structure of all the `tags` in the file, called a `DOM` or Document Object Model."
   ]
  },
  {
   "cell_type": "code",
   "execution_count": 68,
   "metadata": {},
   "outputs": [
    {
     "name": "stdout",
     "output_type": "stream",
     "text": [
      "<r:system xmlns:r=\"http://www.turing.ac.uk/rsd-engineering/schema/reaction\">\n",
      "    <r:reaction>\n",
      "        <r:reactants>\n",
      "            <r:molecule stoichiometry=\"2\">\n",
      "                    <r:element symbol=\"H\" number=\"2\"/>\n",
      "            </r:molecule>\n",
      "            <r:molecule stoichiometry=\"1\">\n",
      "                    <r:element symbol=\"O\" number=\"2\"/>\n",
      "            </r:molecule>\n",
      "        </r:reactants>\n",
      "        <r:products>\n",
      "            <r:molecule stoichiometry=\"2\">\n",
      "                    <r:element symbol=\"H\" number=\"2\"/>\n",
      "                    <r:element symbol=\"O\" number=\"1\"/>\n",
      "            </r:molecule>\n",
      "        </r:products>\n",
      "    </r:reaction>\n",
      "</r:system>\n",
      "\n"
     ]
    }
   ],
   "source": [
    "from lxml import etree\n",
    "\n",
    "with open(\"system.xml\") as xmlfile:\n",
    "    tree = etree.parse(xmlfile)\n",
    "print(etree.tostring(tree, pretty_print=True, encoding=str))"
   ]
  },
  {
   "cell_type": "markdown",
   "metadata": {},
   "source": [
    "We can navigage the tree, with each **element** being an iterable yielding its children: "
   ]
  },
  {
   "cell_type": "code",
   "execution_count": 69,
   "metadata": {},
   "outputs": [
    {
     "data": {
      "text/plain": [
       "'1'"
      ]
     },
     "execution_count": 69,
     "metadata": {},
     "output_type": "execute_result"
    }
   ],
   "source": [
    "tree.getroot()[0][0][1].attrib[\"stoichiometry\"]"
   ]
  },
  {
   "cell_type": "markdown",
   "metadata": {},
   "source": [
    "## Searching XML"
   ]
  },
  {
   "cell_type": "markdown",
   "metadata": {},
   "source": [
    "`xpath` is a sophisticated tool for searching XML DOMs:"
   ]
  },
  {
   "cell_type": "code",
   "execution_count": 38,
   "metadata": {},
   "outputs": [
    {
     "data": {
      "text/plain": [
       "['C', 'O', 'O']"
      ]
     },
     "execution_count": 38,
     "metadata": {},
     "output_type": "execute_result"
    }
   ],
   "source": [
    "tree.xpath(\"//molecule/element[@number='1']/@symbol\")"
   ]
  },
  {
   "cell_type": "markdown",
   "metadata": {},
   "source": [
    "It is useful to understand grammars like these using the \"FOR-LET-WHERE-ORDER-RETURN\" (Flower) model."
   ]
  },
  {
   "cell_type": "markdown",
   "metadata": {},
   "source": [
    "The above says: \"For element in molecules where number is one, return symbol\", roughly equivalent to `[element.symbol for element in molecule for molecule in document if element.number==1]` in Python."
   ]
  },
  {
   "cell_type": "code",
   "execution_count": 70,
   "metadata": {},
   "outputs": [
    {
     "name": "stdout",
     "output_type": "stream",
     "text": [
      "['C', 'O', 'H', 'O', 'H', 'O']\n"
     ]
    }
   ],
   "source": [
    "with open(\"system2.xml\") as xmlfile:\n",
    "    tree2 = etree.parse(xmlfile)\n",
    "print(tree2.xpath(\"//molecule[element=1]//@symbol\"))   "
   ]
  },
  {
   "cell_type": "markdown",
   "metadata": {},
   "source": [
    "Note how we select on text content rather than attributes by using the element tag directly. The above says \"for every molecule where at least one element is present with just a single atom, return all the symbols of all the elements in that molecule.\""
   ]
  },
  {
   "cell_type": "markdown",
   "metadata": {},
   "source": [
    "## Transforming XML : XSLT"
   ]
  },
  {
   "cell_type": "markdown",
   "metadata": {},
   "source": [
    "Two technologies (XSLT and XQUERY) provide capability to produce text output from an XML tree."
   ]
  },
  {
   "cell_type": "markdown",
   "metadata": {},
   "source": [
    "We'll look at XSLT as support is more widespread, including in the python library we're using. XQuery is probably easier to use and understand, but with less support.\n",
    "\n",
    "However, XSLT is a beautiful functional declarative language, once you read past the angle-brackets."
   ]
  },
  {
   "cell_type": "markdown",
   "metadata": {},
   "source": [
    "Here's an XSLT to transform our reaction system into a LaTeX representation:"
   ]
  },
  {
   "cell_type": "code",
   "execution_count": 71,
   "metadata": {},
   "outputs": [
    {
     "name": "stdout",
     "output_type": "stream",
     "text": [
      "Overwriting xmltotex.xsl\n"
     ]
    }
   ],
   "source": [
    "%%writefile xmltotex.xsl\n",
    "\n",
    "<xsl:stylesheet version=\"2.0\" xmlns:xsl=\"http://www.w3.org/1999/XSL/Transform\">\n",
    "    <xsl:output method=\"xml\" indent=\"yes\" omit-xml-declaration=\"yes\" />\n",
    "        \n",
    "    <xsl:template match=\"//reaction\">\n",
    "        <xsl:apply-templates select=\"reactants\"/>\n",
    "        <xsl:text> \\rightarrow </xsl:text>\n",
    "        <xsl:apply-templates select=\"products\"/>\n",
    "        <xsl:text>\\\\&#xa;</xsl:text>\n",
    "    </xsl:template>\n",
    "        \n",
    "    <xsl:template match=\"//molecule[position()!=1]\">\n",
    "        <xsl:text> + </xsl:text>\n",
    "        <xsl:apply-templates select=\"@stoichiometry\"/>\n",
    "        <xsl:apply-templates/>\n",
    "    </xsl:template>\n",
    "        \n",
    "    <xsl:template match=\"@stoichiometry[.='1']\"/>\n",
    "    <!-- do not copy 1-stoichiometries -->\n",
    "    \n",
    "    <!-- Otherwise, use the default template for attributes, which is just to copy value -->\n",
    "        \n",
    "    <xsl:template match=\"//molecule[position()=1]\">\n",
    "        <xsl:apply-templates select=\"@* | *\"/> \n",
    "    </xsl:template>\n",
    "    \n",
    "    <xsl:template match=\"//element\">\n",
    "        <xsl:value-of select=\"@symbol\"/>\n",
    "        <xsl:apply-templates select=\"@number\"/>\n",
    "    </xsl:template>\n",
    "        \n",
    "    <xsl:template match=\"@number[.=1]\"/>\n",
    "    <!-- do not copy 1-numbers -->\n",
    "    \n",
    "    <xsl:template match=\"@number[.!=1][10>.]\">\n",
    "        <xsl:text>_</xsl:text>\n",
    "        <xsl:value-of select=\".\"/>\n",
    "    </xsl:template>\n",
    "        \n",
    "    <xsl:template match=\"@number[.!=1][.>9]\">\n",
    "        <xsl:text>_{</xsl:text>\n",
    "        <xsl:value-of select=\".\"/>\n",
    "        <xsl:text>}</xsl:text>          \n",
    "    </xsl:template>\n",
    "        \n",
    "    <xsl:template match=\"text()\" />\n",
    "    <!-- Do not copy input whitespace to output -->\n",
    "</xsl:stylesheet>"
   ]
  },
  {
   "cell_type": "code",
   "execution_count": 73,
   "metadata": {},
   "outputs": [],
   "source": [
    "with open(\"xmltotex.xsl\") as xslfile:\n",
    "    transform_xsl = xslfile.read()\n",
    "transform=etree.XSLT(etree.XML(transform_xsl))"
   ]
  },
  {
   "cell_type": "code",
   "execution_count": 74,
   "metadata": {},
   "outputs": [
    {
     "name": "stdout",
     "output_type": "stream",
     "text": [
      "\n"
     ]
    }
   ],
   "source": [
    "print(str(transform(tree)))"
   ]
  },
  {
   "cell_type": "code",
   "execution_count": 75,
   "metadata": {},
   "outputs": [
    {
     "data": {
      "text/latex": [
       "$\\displaystyle $"
      ],
      "text/plain": [
       "<IPython.core.display.Math object>"
      ]
     },
     "metadata": {},
     "output_type": "display_data"
    }
   ],
   "source": [
    "display(Math(str(transform(tree))))"
   ]
  },
  {
   "cell_type": "markdown",
   "metadata": {},
   "source": [
    "## Validating XML : Schema"
   ]
  },
  {
   "cell_type": "markdown",
   "metadata": {},
   "source": [
    "XML Schema is a way to define how an XML file is allowed to be: which attributes and tags should exist where.\n",
    "    \n",
    "You should always define one of these when using an XML file format."
   ]
  },
  {
   "cell_type": "code",
   "execution_count": 48,
   "metadata": {},
   "outputs": [
    {
     "name": "stdout",
     "output_type": "stream",
     "text": [
      "Overwriting reactions.xsd\n"
     ]
    }
   ],
   "source": [
    "%%writefile reactions.xsd\n",
    "\n",
    "<xs:schema xmlns:xs=\"http://www.w3.org/2001/XMLSchema\">\n",
    "\n",
    "<xs:element name=\"element\">\n",
    "<xs:complexType>\n",
    "    <xs:attribute name=\"symbol\" type=\"xs:string\"/>\n",
    "    <xs:attribute name=\"number\" type=\"xs:integer\"/>\n",
    "</xs:complexType>\n",
    "</xs:element>\n",
    "    \n",
    "<xs:element name=\"molecule\">\n",
    "    <xs:complexType>\n",
    "        <xs:sequence>\n",
    "            <xs:element ref=\"element\" maxOccurs=\"unbounded\"/>\n",
    "        </xs:sequence>\n",
    "        <xs:attribute name=\"stoichiometry\" type=\"xs:integer\"/>\n",
    "    </xs:complexType>\n",
    "</xs:element>\n",
    "    \n",
    "<xs:element name=\"reaction\">\n",
    "    <xs:complexType>\n",
    "        <xs:sequence>\n",
    "        <xs:element name=\"reactants\">\n",
    "            <xs:complexType>\n",
    "                <xs:sequence>\n",
    "                    <xs:element ref=\"molecule\" maxOccurs=\"unbounded\"/>\n",
    "                </xs:sequence>\n",
    "            </xs:complexType>\n",
    "        </xs:element>\n",
    "        <xs:element name=\"products\">\n",
    "            <xs:complexType>\n",
    "                <xs:sequence>\n",
    "                    <xs:element ref=\"molecule\" maxOccurs=\"unbounded\"/>\n",
    "                </xs:sequence>\n",
    "            </xs:complexType>\n",
    "        </xs:element>\n",
    "        </xs:sequence>\n",
    "    </xs:complexType>\n",
    "</xs:element>\n",
    "\n",
    "<xs:element name=\"system\">\n",
    "<xs:complexType>\n",
    "    <xs:sequence>\n",
    "        <xs:element ref=\"reaction\" maxOccurs=\"unbounded\"/>\n",
    "    </xs:sequence>\n",
    "</xs:complexType>\n",
    "</xs:element>   \n",
    "    \n",
    "</xs:schema>"
   ]
  },
  {
   "cell_type": "code",
   "execution_count": 76,
   "metadata": {},
   "outputs": [],
   "source": [
    "with open(\"reactions.xsd\") as xsdfile:\n",
    "    schema_xsd = xsdfile.read()\n",
    "schema = etree.XMLSchema(etree.XML(schema_xsd))    "
   ]
  },
  {
   "cell_type": "code",
   "execution_count": 77,
   "metadata": {},
   "outputs": [],
   "source": [
    "parser = etree.XMLParser(schema=schema)"
   ]
  },
  {
   "cell_type": "code",
   "execution_count": 78,
   "metadata": {},
   "outputs": [
    {
     "name": "stdout",
     "output_type": "stream",
     "text": [
      "<lxml.etree._ElementTree object at 0x109e56c80>\n"
     ]
    }
   ],
   "source": [
    "with open(\"system.xml\") as xmlfile:\n",
    "    tree = etree.parse(xmlfile, parser)\n",
    "    print(tree)"
   ]
  },
  {
   "cell_type": "markdown",
   "metadata": {},
   "source": [
    "Compare parsing something that is not valid under the schema:"
   ]
  },
  {
   "cell_type": "code",
   "execution_count": 65,
   "metadata": {},
   "outputs": [
    {
     "name": "stdout",
     "output_type": "stream",
     "text": [
      "Overwriting invalid_system.xml\n"
     ]
    }
   ],
   "source": [
    "%%writefile invalid_system.xml\n",
    "\n",
    "<system>\n",
    "    <reaction>\n",
    "        <reactants>\n",
    "            <molecule stoichiometry=\"two\">\n",
    "                    <element symbol=\"H\" number=\"2\"/>\n",
    "            </molecule>\n",
    "            <molecule stoichiometry=\"1\">\n",
    "                    <element symbol=\"O\" number=\"2\"/>\n",
    "            </molecule>\n",
    "        </reactants>\n",
    "        <products>\n",
    "            <molecule stoichiometry=\"2\">\n",
    "                    <element symbol=\"H\" number=\"2\"/>\n",
    "                    <element symbol=\"O\" number=\"1\"/>\n",
    "            </molecule>\n",
    "        </products>\n",
    "    </reaction>\n",
    "</system>"
   ]
  },
  {
   "cell_type": "code",
   "execution_count": 66,
   "metadata": {},
   "outputs": [
    {
     "ename": "XMLSyntaxError",
     "evalue": "Element 'molecule', attribute 'stoichiometry': 'two' is not a valid value of the atomic type 'xs:integer'. (<string>, line 0)",
     "output_type": "error",
     "traceback": [
      "Traceback \u001b[0;36m(most recent call last)\u001b[0m:\n",
      "  File \u001b[1;32m\"/Users/jrobinson/.pyenv/versions/3.7.9/envs/rsd-engineeringcourse/lib/python3.7/site-packages/IPython/core/interactiveshell.py\"\u001b[0m, line \u001b[1;32m3418\u001b[0m, in \u001b[1;35mrun_code\u001b[0m\n    exec(code_obj, self.user_global_ns, self.user_ns)\n",
      "  File \u001b[1;32m\"<ipython-input-66-6e51cfadf415>\"\u001b[0m, line \u001b[1;32m2\u001b[0m, in \u001b[1;35m<module>\u001b[0m\n    tree = etree.parse(xmlfile, parser)\n",
      "  File \u001b[1;32m\"src/lxml/etree.pyx\"\u001b[0m, line \u001b[1;32m3521\u001b[0m, in \u001b[1;35mlxml.etree.parse\u001b[0m\n",
      "  File \u001b[1;32m\"src/lxml/parser.pxi\"\u001b[0m, line \u001b[1;32m1880\u001b[0m, in \u001b[1;35mlxml.etree._parseDocument\u001b[0m\n",
      "  File \u001b[1;32m\"src/lxml/parser.pxi\"\u001b[0m, line \u001b[1;32m1900\u001b[0m, in \u001b[1;35mlxml.etree._parseFilelikeDocument\u001b[0m\n",
      "  File \u001b[1;32m\"src/lxml/parser.pxi\"\u001b[0m, line \u001b[1;32m1795\u001b[0m, in \u001b[1;35mlxml.etree._parseDocFromFilelike\u001b[0m\n",
      "  File \u001b[1;32m\"src/lxml/parser.pxi\"\u001b[0m, line \u001b[1;32m1201\u001b[0m, in \u001b[1;35mlxml.etree._BaseParser._parseDocFromFilelike\u001b[0m\n",
      "  File \u001b[1;32m\"src/lxml/parser.pxi\"\u001b[0m, line \u001b[1;32m615\u001b[0m, in \u001b[1;35mlxml.etree._ParserContext._handleParseResultDoc\u001b[0m\n",
      "  File \u001b[1;32m\"src/lxml/parser.pxi\"\u001b[0m, line \u001b[1;32m725\u001b[0m, in \u001b[1;35mlxml.etree._handleParseResult\u001b[0m\n",
      "\u001b[0;36m  File \u001b[0;32m\"src/lxml/parser.pxi\"\u001b[0;36m, line \u001b[0;32m654\u001b[0;36m, in \u001b[0;35mlxml.etree._raiseParseError\u001b[0;36m\u001b[0m\n",
      "\u001b[0;36m  File \u001b[0;32m\"<string>\"\u001b[0;36m, line \u001b[0;32munknown\u001b[0m\n\u001b[0;31mXMLSyntaxError\u001b[0m\u001b[0;31m:\u001b[0m Element 'molecule', attribute 'stoichiometry': 'two' is not a valid value of the atomic type 'xs:integer'.\n"
     ]
    }
   ],
   "source": [
    "with open(\"invalid_system.xml\") as xmlfile:\n",
    "    tree = etree.parse(xmlfile, parser)\n",
    "    print(tree)"
   ]
  }
 ],
 "metadata": {
  "jekyll": {
   "display_name": "Markup languages"
  },
  "kernelspec": {
   "display_name": "Python 3",
   "language": "python",
   "name": "python3"
  },
  "language_info": {
   "codemirror_mode": {
    "name": "ipython",
    "version": 3
   },
   "file_extension": ".py",
   "mimetype": "text/x-python",
   "name": "python",
   "nbconvert_exporter": "python",
   "pygments_lexer": "ipython3",
   "version": "3.7.9"
  }
 },
 "nbformat": 4,
 "nbformat_minor": 1
}
