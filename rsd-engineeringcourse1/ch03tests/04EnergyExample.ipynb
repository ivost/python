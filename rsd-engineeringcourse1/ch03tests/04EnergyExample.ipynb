{
 "cells": [
  {
   "cell_type": "markdown",
   "metadata": {},
   "source": [
    "## Classroom exercise: energy calculation\n",
    "\n",
    "### Diffusion model in 1D\n",
    "\n",
    "Description: A one-dimensional diffusion model. (Could be a gas of particles, or a bunch of crowded people in a corridor, or animals in a valley habitat...)\n",
    "\n",
    "- Agents are on a 1d axis\n",
    "- Agents do not want to be where there are other agents\n",
    "- This is represented as an 'energy': the higher the energy, the more unhappy the agents.\n",
    "\n",
    "Implementation:\n",
    "\n",
    "- Given a vector $n$ of positive integers, and of arbitrary length\n",
    "- Compute the energy, $E(n) = \\sum_i n_i(n_i - 1)$\n",
    "- Later, we will have the likelyhood of an agent moving depend on the change in energy."
   ]
  },
  {
   "cell_type": "code",
   "execution_count": 1,
   "metadata": {},
   "outputs": [
    {
     "data": {
      "text/plain": [
       "Text(0.5, 0, 'Position $i$')"
      ]
     },
     "execution_count": 1,
     "metadata": {},
     "output_type": "execute_result"
    },
    {
     "data": {
      "image/png": "[encoded data removed]",
      "text/plain": [
       "<Figure size 432x288 with 1 Axes>"
      ]
     },
     "metadata": {
      "needs_background": "light"
     },
     "output_type": "display_data"
    }
   ],
   "source": [
    "%matplotlib inline\n",
    "import numpy as np\n",
    "from matplotlib import pyplot as plt\n",
    "\n",
    "density = np.array([0, 0, 3, 5, 8, 4, 2, 1])\n",
    "fig, ax = plt.subplots()\n",
    "ax.bar(np.arange(len(density)) - 0.5, density)\n",
    "ax.xrange = [-0.5, len(density) - 0.5]\n",
    "ax.set_ylabel(\"Particle count $n_i$\")\n",
    "ax.set_xlabel(\"Position $i$\")"
   ]
  },
  {
   "cell_type": "markdown",
   "metadata": {},
   "source": [
    "Here, the total energy due to position 2 is $3 (3-1)=6$, and due to column 7 is $1 (1-1)=0$. We need to sum these to get the\n",
    "total energy."
   ]
  },
  {
   "cell_type": "markdown",
   "metadata": {},
   "source": [
    "### Starting point\n",
    "\n",
    "Create a Python module:"
   ]
  },
  {
   "cell_type": "code",
   "execution_count": 2,
   "metadata": {},
   "outputs": [],
   "source": [
    "%%bash\n",
    "#%%cmd (windows)\n",
    "mkdir -p diffusion\n",
    "touch diffusion/__init__.py #type nul > diffusion/__init__.py s(windows)"
   ]
  },
  {
   "cell_type": "markdown",
   "metadata": {},
   "source": [
    "* Implementation file: diffusion_model.py"
   ]
  },
  {
   "cell_type": "code",
   "execution_count": 3,
   "metadata": {
    "attributes": {
     "classes": [
      " python"
     ],
     "id": ""
    }
   },
   "outputs": [
    {
     "name": "stdout",
     "output_type": "stream",
     "text": [
      "Overwriting diffusion/model.py\n"
     ]
    }
   ],
   "source": [
    "%%writefile diffusion/model.py\n",
    "def energy(density, coeff=1.0):\n",
    "    \"\"\"Energy associated with the diffusion model\n",
    "\n",
    "    Parameters\n",
    "    ----------\n",
    "\n",
    "    density: array of positive integers\n",
    "        Number of particles at each position i in the array\n",
    "    coeff: float\n",
    "        Diffusion coefficient.\n",
    "    \"\"\"\n",
    "    # implementation goes here"
   ]
  },
  {
   "cell_type": "markdown",
   "metadata": {},
   "source": [
    "* Testing file: test_diffusion_model.py"
   ]
  },
  {
   "cell_type": "code",
   "execution_count": 4,
   "metadata": {
    "attributes": {
     "classes": [
      " python"
     ],
     "id": ""
    }
   },
   "outputs": [
    {
     "name": "stdout",
     "output_type": "stream",
     "text": [
      "Overwriting diffusion/test_model.py\n"
     ]
    }
   ],
   "source": [
    "%%writefile diffusion/test_model.py\n",
    "from .model import energy\n",
    "\n",
    "\n",
    "def test_energy():\n",
    "    \"\"\"Optional description for nose reporting.\"\"\"\n",
    "    # Test something"
   ]
  },
  {
   "cell_type": "markdown",
   "metadata": {},
   "source": [
    "Invoke the tests:"
   ]
  },
  {
   "cell_type": "code",
   "execution_count": 5,
   "metadata": {},
   "outputs": [
    {
     "name": "stdout",
     "output_type": "stream",
     "text": [
      "============================= test session starts ==============================\n",
      "platform darwin -- Python 3.8.3, pytest-5.4.3, py-1.9.0, pluggy-0.13.1\n",
      "rootdir: /Users/cmole/git_repos/rsd-engineeringcourse/ch03tests/diffusion\n",
      "collected 1 item\n",
      "\n",
      "test_model.py .                                                          [100%]\n",
      "\n",
      "============================== 1 passed in 0.01s ===============================\n"
     ]
    }
   ],
   "source": [
    "%%bash\n",
    "#%%cmd (windows)\n",
    "cd diffusion\n",
    "py.test"
   ]
  },
  {
   "cell_type": "markdown",
   "metadata": {},
   "source": [
    "Now, write your code (in `model.py`), and tests (in `test_model.py`), testing as you do."
   ]
  },
  {
   "cell_type": "markdown",
   "metadata": {},
   "source": [
    "### Solution\n",
    "\n",
    "Don't look until after you've tried!\n",
    "\n",
    "\n",
    "\n",
    "\n",
    "\n",
    "\n",
    "In the spirit of test-driven development let's first consider our tests."
   ]
  },
  {
   "cell_type": "code",
   "execution_count": 6,
   "metadata": {},
   "outputs": [
    {
     "name": "stdout",
     "output_type": "stream",
     "text": [
      "Overwriting diffusion/test_model.py\n"
     ]
    }
   ],
   "source": [
    "%%writefile diffusion/test_model.py\n",
    "\"\"\"Unit tests for a diffusion model.\"\"\"\n",
    "\n",
    "from pytest import raises\n",
    "from .model import energy\n",
    "\n",
    "\n",
    "def test_energy_fails_on_non_integer_density():\n",
    "    with raises(TypeError) as exception:\n",
    "        energy([1.0, 2, 3])\n",
    "\n",
    "\n",
    "def test_energy_fails_on_negative_density():\n",
    "    with raises(ValueError) as exception:\n",
    "        energy([-1, 2, 3])\n",
    "\n",
    "\n",
    "def test_energy_fails_ndimensional_density():\n",
    "    with raises(ValueError) as exception:\n",
    "        energy([[1, 2, 3], [3, 4, 5]])\n",
    "\n",
    "\n",
    "def test_zero_energy_cases():\n",
    "    # Zero energy at zero density\n",
    "    densities = [[], [0], [0, 0, 0]]\n",
    "    for density in densities:\n",
    "        assert energy(density) == 0\n",
    "\n",
    "\n",
    "def test_derivative():\n",
    "    from numpy.random import randint\n",
    "\n",
    "    # Loop over vectors of different sizes (but not empty)\n",
    "    for vector_size in randint(1, 1000, size=30):\n",
    "\n",
    "        # Create random density of size N\n",
    "        density = randint(50, size=vector_size)\n",
    "\n",
    "        # will do derivative at this index\n",
    "        element_index = randint(vector_size)\n",
    "\n",
    "        # modified densities\n",
    "        density_plus_one = density.copy()\n",
    "        density_plus_one[element_index] += 1\n",
    "\n",
    "        # Compute and check result\n",
    "        # d(n^2-1)/dn = 2n\n",
    "        expected = 2.0 * density[element_index] if density[element_index] > 0 else 0\n",
    "        actual = energy(density_plus_one) - energy(density)\n",
    "        assert expected == actual\n",
    "\n",
    "\n",
    "def test_derivative_no_self_energy():\n",
    "    \"\"\"If particle is alone, then its participation to energy is zero.\"\"\"\n",
    "    from numpy import array\n",
    "\n",
    "    density = array([1, 0, 1, 10, 15, 0])\n",
    "    density_plus_one = density.copy()\n",
    "    density[1] += 1\n",
    "\n",
    "    expected = 0\n",
    "    actual = energy(density_plus_one) - energy(density)\n",
    "    assert expected == actual\n",
    "\n"
   ]
  },
  {
   "cell_type": "markdown",
   "metadata": {},
   "source": [
    "Now let's write an implementation that passes the tests.\n"
   ]
  },
  {
   "cell_type": "code",
   "execution_count": 7,
   "metadata": {},
   "outputs": [
    {
     "name": "stdout",
     "output_type": "stream",
     "text": [
      "Overwriting diffusion/model.py\n"
     ]
    }
   ],
   "source": [
    "%%writefile diffusion/model.py\n",
    "\"\"\"Simplistic 1-dimensional diffusion model.\"\"\"\n",
    "from numpy import array, any, sum\n",
    "\n",
    "def energy(density):\n",
    "    \"\"\"Energy associated with the diffusion model\n",
    "    :Parameters:\n",
    "      density: array of positive integers\n",
    "         Number of particles at each position i in the array/geometry\n",
    "    \"\"\"\n",
    "\n",
    "    # Make sure input is an numpy array\n",
    "    density = array(density)\n",
    "\n",
    "    # ...of the right kind (integer). Unless it is zero length,\n",
    "    #    in which case type does not matter.\n",
    "\n",
    "    if density.dtype.kind != \"i\" and len(density) > 0:\n",
    "        raise TypeError(\"Density should be a array of *integers*.\")\n",
    "    # and the right values (positive or null)\n",
    "    if any(density < 0):\n",
    "        raise ValueError(\"Density should be an array of *positive* integers.\")\n",
    "    if density.ndim != 1:\n",
    "        raise ValueError(\n",
    "            \"Density should be an a *1-dimensional*\" + \"array of positive integers.\"\n",
    "        )\n",
    "\n",
    "    return sum(density * (density - 1))"
   ]
  },
  {
   "cell_type": "code",
   "execution_count": 8,
   "metadata": {},
   "outputs": [
    {
     "name": "stdout",
     "output_type": "stream",
     "text": [
      "============================= test session starts ==============================\n",
      "platform darwin -- Python 3.8.3, pytest-5.4.3, py-1.9.0, pluggy-0.13.1\n",
      "rootdir: /Users/cmole/git_repos/rsd-engineeringcourse/ch03tests/diffusion\n",
      "collected 6 items\n",
      "\n",
      "test_model.py ......                                                     [100%]\n",
      "\n",
      "============================== 6 passed in 0.13s ===============================\n"
     ]
    }
   ],
   "source": [
    "%%bash\n",
    "\n",
    "cd diffusion\n",
    "py.test"
   ]
  },
  {
   "cell_type": "markdown",
   "metadata": {},
   "source": [
    "### Coverage\n",
    "\n",
    "With py.test, you can use the [\"pytest-cov\" plugin](https://github.com/pytest-dev/pytest-cov) to measure test coverage"
   ]
  },
  {
   "cell_type": "code",
   "execution_count": 9,
   "metadata": {},
   "outputs": [
    {
     "name": "stderr",
     "output_type": "stream",
     "text": [
      "ERROR: usage: py.test [options] [file_or_dir] [file_or_dir] [...]\n",
      "py.test: error: unrecognized arguments: --cov\n",
      "  inifile: None\n",
      "  rootdir: /Users/cmole/git_repos/rsd-engineeringcourse/ch03tests/diffusion\n",
      "\n"
     ]
    },
    {
     "ename": "CalledProcessError",
     "evalue": "Command 'b'#%%cmd (windows)\\ncd diffusion\\npy.test --cov\\n'' returned non-zero exit status 4.",
     "output_type": "error",
     "traceback": [
      "\u001b[0;31m---------------------------------------------------------------------------\u001b[0m",
      "\u001b[0;31mCalledProcessError\u001b[0m                        Traceback (most recent call last)",
      "\u001b[0;32m<ipython-input-9-b23825ede2d2>\u001b[0m in \u001b[0;36m<module>\u001b[0;34m\u001b[0m\n\u001b[0;32m----> 1\u001b[0;31m \u001b[0mget_ipython\u001b[0m\u001b[0;34m(\u001b[0m\u001b[0;34m)\u001b[0m\u001b[0;34m.\u001b[0m\u001b[0mrun_cell_magic\u001b[0m\u001b[0;34m(\u001b[0m\u001b[0;34m'bash'\u001b[0m\u001b[0;34m,\u001b[0m \u001b[0;34m''\u001b[0m\u001b[0;34m,\u001b[0m \u001b[0;34m'#%%cmd (windows)\\ncd diffusion\\npy.test --cov\\n'\u001b[0m\u001b[0;34m)\u001b[0m\u001b[0;34m\u001b[0m\u001b[0;34m\u001b[0m\u001b[0m\n\u001b[0m",
      "\u001b[0;32m/usr/local/anaconda3/lib/python3.8/site-packages/IPython/core/interactiveshell.py\u001b[0m in \u001b[0;36mrun_cell_magic\u001b[0;34m(self, magic_name, line, cell)\u001b[0m\n\u001b[1;32m   2369\u001b[0m             \u001b[0;32mwith\u001b[0m \u001b[0mself\u001b[0m\u001b[0;34m.\u001b[0m\u001b[0mbuiltin_trap\u001b[0m\u001b[0;34m:\u001b[0m\u001b[0;34m\u001b[0m\u001b[0;34m\u001b[0m\u001b[0m\n\u001b[1;32m   2370\u001b[0m                 \u001b[0margs\u001b[0m \u001b[0;34m=\u001b[0m \u001b[0;34m(\u001b[0m\u001b[0mmagic_arg_s\u001b[0m\u001b[0;34m,\u001b[0m \u001b[0mcell\u001b[0m\u001b[0;34m)\u001b[0m\u001b[0;34m\u001b[0m\u001b[0;34m\u001b[0m\u001b[0m\n\u001b[0;32m-> 2371\u001b[0;31m                 \u001b[0mresult\u001b[0m \u001b[0;34m=\u001b[0m \u001b[0mfn\u001b[0m\u001b[0;34m(\u001b[0m\u001b[0;34m*\u001b[0m\u001b[0margs\u001b[0m\u001b[0;34m,\u001b[0m \u001b[0;34m**\u001b[0m\u001b[0mkwargs\u001b[0m\u001b[0;34m)\u001b[0m\u001b[0;34m\u001b[0m\u001b[0;34m\u001b[0m\u001b[0m\n\u001b[0m\u001b[1;32m   2372\u001b[0m             \u001b[0;32mreturn\u001b[0m \u001b[0mresult\u001b[0m\u001b[0;34m\u001b[0m\u001b[0;34m\u001b[0m\u001b[0m\n\u001b[1;32m   2373\u001b[0m \u001b[0;34m\u001b[0m\u001b[0m\n",
      "\u001b[0;32m/usr/local/anaconda3/lib/python3.8/site-packages/IPython/core/magics/script.py\u001b[0m in \u001b[0;36mnamed_script_magic\u001b[0;34m(line, cell)\u001b[0m\n\u001b[1;32m    140\u001b[0m             \u001b[0;32melse\u001b[0m\u001b[0;34m:\u001b[0m\u001b[0;34m\u001b[0m\u001b[0;34m\u001b[0m\u001b[0m\n\u001b[1;32m    141\u001b[0m                 \u001b[0mline\u001b[0m \u001b[0;34m=\u001b[0m \u001b[0mscript\u001b[0m\u001b[0;34m\u001b[0m\u001b[0;34m\u001b[0m\u001b[0m\n\u001b[0;32m--> 142\u001b[0;31m             \u001b[0;32mreturn\u001b[0m \u001b[0mself\u001b[0m\u001b[0;34m.\u001b[0m\u001b[0mshebang\u001b[0m\u001b[0;34m(\u001b[0m\u001b[0mline\u001b[0m\u001b[0;34m,\u001b[0m \u001b[0mcell\u001b[0m\u001b[0;34m)\u001b[0m\u001b[0;34m\u001b[0m\u001b[0;34m\u001b[0m\u001b[0m\n\u001b[0m\u001b[1;32m    143\u001b[0m \u001b[0;34m\u001b[0m\u001b[0m\n\u001b[1;32m    144\u001b[0m         \u001b[0;31m# write a basic docstring:\u001b[0m\u001b[0;34m\u001b[0m\u001b[0;34m\u001b[0m\u001b[0;34m\u001b[0m\u001b[0m\n",
      "\u001b[0;32m<decorator-gen-110>\u001b[0m in \u001b[0;36mshebang\u001b[0;34m(self, line, cell)\u001b[0m\n",
      "\u001b[0;32m/usr/local/anaconda3/lib/python3.8/site-packages/IPython/core/magic.py\u001b[0m in \u001b[0;36m<lambda>\u001b[0;34m(f, *a, **k)\u001b[0m\n\u001b[1;32m    185\u001b[0m     \u001b[0;31m# but it's overkill for just that one bit of state.\u001b[0m\u001b[0;34m\u001b[0m\u001b[0;34m\u001b[0m\u001b[0;34m\u001b[0m\u001b[0m\n\u001b[1;32m    186\u001b[0m     \u001b[0;32mdef\u001b[0m \u001b[0mmagic_deco\u001b[0m\u001b[0;34m(\u001b[0m\u001b[0marg\u001b[0m\u001b[0;34m)\u001b[0m\u001b[0;34m:\u001b[0m\u001b[0;34m\u001b[0m\u001b[0;34m\u001b[0m\u001b[0m\n\u001b[0;32m--> 187\u001b[0;31m         \u001b[0mcall\u001b[0m \u001b[0;34m=\u001b[0m \u001b[0;32mlambda\u001b[0m \u001b[0mf\u001b[0m\u001b[0;34m,\u001b[0m \u001b[0;34m*\u001b[0m\u001b[0ma\u001b[0m\u001b[0;34m,\u001b[0m \u001b[0;34m**\u001b[0m\u001b[0mk\u001b[0m\u001b[0;34m:\u001b[0m \u001b[0mf\u001b[0m\u001b[0;34m(\u001b[0m\u001b[0;34m*\u001b[0m\u001b[0ma\u001b[0m\u001b[0;34m,\u001b[0m \u001b[0;34m**\u001b[0m\u001b[0mk\u001b[0m\u001b[0;34m)\u001b[0m\u001b[0;34m\u001b[0m\u001b[0;34m\u001b[0m\u001b[0m\n\u001b[0m\u001b[1;32m    188\u001b[0m \u001b[0;34m\u001b[0m\u001b[0m\n\u001b[1;32m    189\u001b[0m         \u001b[0;32mif\u001b[0m \u001b[0mcallable\u001b[0m\u001b[0;34m(\u001b[0m\u001b[0marg\u001b[0m\u001b[0;34m)\u001b[0m\u001b[0;34m:\u001b[0m\u001b[0;34m\u001b[0m\u001b[0;34m\u001b[0m\u001b[0m\n",
      "\u001b[0;32m/usr/local/anaconda3/lib/python3.8/site-packages/IPython/core/magics/script.py\u001b[0m in \u001b[0;36mshebang\u001b[0;34m(self, line, cell)\u001b[0m\n\u001b[1;32m    243\u001b[0m             \u001b[0msys\u001b[0m\u001b[0;34m.\u001b[0m\u001b[0mstderr\u001b[0m\u001b[0;34m.\u001b[0m\u001b[0mflush\u001b[0m\u001b[0;34m(\u001b[0m\u001b[0;34m)\u001b[0m\u001b[0;34m\u001b[0m\u001b[0;34m\u001b[0m\u001b[0m\n\u001b[1;32m    244\u001b[0m         \u001b[0;32mif\u001b[0m \u001b[0margs\u001b[0m\u001b[0;34m.\u001b[0m\u001b[0mraise_error\u001b[0m \u001b[0;32mand\u001b[0m \u001b[0mp\u001b[0m\u001b[0;34m.\u001b[0m\u001b[0mreturncode\u001b[0m\u001b[0;34m!=\u001b[0m\u001b[0;36m0\u001b[0m\u001b[0;34m:\u001b[0m\u001b[0;34m\u001b[0m\u001b[0;34m\u001b[0m\u001b[0m\n\u001b[0;32m--> 245\u001b[0;31m             \u001b[0;32mraise\u001b[0m \u001b[0mCalledProcessError\u001b[0m\u001b[0;34m(\u001b[0m\u001b[0mp\u001b[0m\u001b[0;34m.\u001b[0m\u001b[0mreturncode\u001b[0m\u001b[0;34m,\u001b[0m \u001b[0mcell\u001b[0m\u001b[0;34m,\u001b[0m \u001b[0moutput\u001b[0m\u001b[0;34m=\u001b[0m\u001b[0mout\u001b[0m\u001b[0;34m,\u001b[0m \u001b[0mstderr\u001b[0m\u001b[0;34m=\u001b[0m\u001b[0merr\u001b[0m\u001b[0;34m)\u001b[0m\u001b[0;34m\u001b[0m\u001b[0;34m\u001b[0m\u001b[0m\n\u001b[0m\u001b[1;32m    246\u001b[0m \u001b[0;34m\u001b[0m\u001b[0m\n\u001b[1;32m    247\u001b[0m     \u001b[0;32mdef\u001b[0m \u001b[0m_run_script\u001b[0m\u001b[0;34m(\u001b[0m\u001b[0mself\u001b[0m\u001b[0;34m,\u001b[0m \u001b[0mp\u001b[0m\u001b[0;34m,\u001b[0m \u001b[0mcell\u001b[0m\u001b[0;34m,\u001b[0m \u001b[0mto_close\u001b[0m\u001b[0;34m)\u001b[0m\u001b[0;34m:\u001b[0m\u001b[0;34m\u001b[0m\u001b[0;34m\u001b[0m\u001b[0m\n",
      "\u001b[0;31mCalledProcessError\u001b[0m: Command 'b'#%%cmd (windows)\\ncd diffusion\\npy.test --cov\\n'' returned non-zero exit status 4."
     ]
    }
   ],
   "source": [
    "%%bash\n",
    "#%%cmd (windows)\n",
    "cd diffusion\n",
    "py.test --cov"
   ]
  },
  {
   "cell_type": "markdown",
   "metadata": {},
   "source": [
    "Or an html report:"
   ]
  },
  {
   "cell_type": "code",
   "execution_count": null,
   "metadata": {},
   "outputs": [],
   "source": [
    "%%bash\n",
    "#%%cmd (windows)\n",
    "cd diffusion\n",
    "py.test --cov --cov-report html"
   ]
  },
  {
   "cell_type": "markdown",
   "metadata": {},
   "source": [
    "Look at the [coverage results](diffusion/htmlcov/index.html)"
   ]
  }
 ],
 "metadata": {
  "jekyll": {
   "display_name": "Energy Example"
  },
  "kernelspec": {
   "display_name": "Python 3",
   "language": "python",
   "name": "python3"
  },
  "language_info": {
   "codemirror_mode": {
    "name": "ipython",
    "version": 3
   },
   "file_extension": ".py",
   "mimetype": "text/x-python",
   "name": "python",
   "nbconvert_exporter": "python",
   "pygments_lexer": "ipython3",
   "version": "3.8.3"
  },
  "widgets": {
   "state": {},
   "version": "1.1.2"
  }
 },
 "nbformat": 4,
 "nbformat_minor": 1
}
